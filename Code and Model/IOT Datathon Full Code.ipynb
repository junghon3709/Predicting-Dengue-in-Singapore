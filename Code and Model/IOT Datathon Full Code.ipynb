{
 "cells": [
  {
   "cell_type": "code",
   "execution_count": 4,
   "metadata": {},
   "outputs": [],
   "source": [
    "import pandas as pd\n",
    "import datetime\n",
    "import numpy as np\n",
    "import sklearn\n",
    "import copy\n",
    "import tensorflow as tf\n",
    "import keras\n",
    "import matplotlib.pyplot as pl\n",
    "import io \n",
    "import matplotlib.pyplot as plt"
   ]
  },
  {
   "cell_type": "markdown",
   "metadata": {},
   "source": [
    "### Loading the datasets"
   ]
  },
  {
   "cell_type": "code",
   "execution_count": 5,
   "metadata": {},
   "outputs": [],
   "source": [
    "# please load your own path here\n",
    "try:\n",
    "#     combined_df=pd.read_csv(r'/path/to/combined_data_030120.csv')\n",
    "#     dengue_df=pd.read_csv(r'/path/to/dengue_271219.csv')\n",
    "#     pop_df=pd.read_csv(r'/path/to/population-sg.csv')\n",
    "    combined_df=pd.read_csv(r'/Users/yipjh/Desktop/Projects/Predicting-Dengue-in-Singapore/Data/post-processed/combined_data_030120.csv')\n",
    "    dengue_df=pd.read_csv(r'/Users/yipjh/Desktop/Projects/Predicting-Dengue-in-Singapore/Data/post-processed/dengue_271219.csv')\n",
    "    pop_df=pd.read_csv(r'/Users/yipjh/Desktop/Projects/Predicting-Dengue-in-Singapore/Data/post-processed/population-sg.csv')\n",
    "except Exception:\n",
    "    pass"
   ]
  },
  {
   "cell_type": "markdown",
   "metadata": {},
   "source": [
    "### Cleaning the data"
   ]
  },
  {
   "cell_type": "code",
   "execution_count": 6,
   "metadata": {},
   "outputs": [],
   "source": [
    "pop_dict={}\n",
    "for i, j in pop_df.iterrows():\n",
    "    pop_dict.update({j[0]:int(j[1].replace(',',''))})\n",
    "\n",
    "pop_df['population']=pop_dict.values()\n",
    "\n",
    "oo=pd.date_range('1/2/2000', periods=7273)\n",
    "date_list=oo.to_pydatetime().tolist()\n",
    "\n",
    "op=dengue_df['Unnamed: 0']\n",
    "def foo(st):\n",
    " y=st.split('-')\n",
    " return datetime.datetime(int(y[0]), int(y[1]), int(y[2]))\n",
    "\n",
    "dt_list=list(map(foo, op))\n",
    "oo=oo.to_pydatetime().tolist()\n",
    "combined_df.index=oo\n",
    "\n",
    "combined_df.drop(['Unnamed: 0'], axis=1, inplace=True)\n",
    "dengue_df.drop(['Unnamed: 0'], axis=1, inplace=True)\n",
    "\n",
    "dengue_df.index=dt_list"
   ]
  },
  {
   "cell_type": "code",
   "execution_count": 7,
   "metadata": {},
   "outputs": [],
   "source": [
    "# to get rid of duplicates in the dengue dataset\n",
    "def rid_duplicates(df):\n",
    "    return df.loc[~df.index.duplicated(keep='first')]\n",
    "\n",
    "trancated_dengue=rid_duplicates(dengue_df)"
   ]
  },
  {
   "cell_type": "code",
   "execution_count": 8,
   "metadata": {},
   "outputs": [],
   "source": [
    "# we want to normalise the data first\n",
    "def normaliser(df, *args):\n",
    "    _=copy.copy(df)\n",
    "    for i in args:\n",
    "        ran=_[i].max()-_[i].min()\n",
    "        std=_[i].std()\n",
    "        ave=_[i].mean()\n",
    "        _[i]=(_[i]-ave)/std\n",
    "    return _"
   ]
  },
  {
   "cell_type": "code",
   "execution_count": 9,
   "metadata": {},
   "outputs": [],
   "source": [
    "trancated_dengue=normaliser(trancated_dengue, 'dengue')\n",
    "combined_df=normaliser(combined_df, 'rain_mean', 'temp_mean')\n",
    "pop_df=normaliser(pop_df, 'population')"
   ]
  },
  {
   "cell_type": "code",
   "execution_count": 10,
   "metadata": {},
   "outputs": [],
   "source": [
    "def pull_dataframe(date, x, iu, *args, **kwargs):\n",
    "    idx=date_list.index(date)\n",
    "    u=pd.DataFrame()\n",
    "    if idx-x-iu>0:\n",
    "        for i, text in zip(args, kwargs.values()):\n",
    "            o=i[idx-x-iu:idx-iu][text]\n",
    "            u[text]=o\n",
    "        return u, date\n",
    "    else:\n",
    "        return u, date"
   ]
  },
  {
   "cell_type": "code",
   "execution_count": 11,
   "metadata": {},
   "outputs": [],
   "source": [
    "rainfall_df=pd.DataFrame(combined_df['rain_mean'])\n",
    "temperature_df=pd.DataFrame(combined_df['temp_mean'])"
   ]
  },
  {
   "cell_type": "markdown",
   "metadata": {},
   "source": [
    "### Setting parameters of our inputs\n",
    "`DATA_WINDOW` refers to the number of weeks of data considered when making the prediction of dengue cases.\n",
    "\n",
    "`LEAD_TIME` refers to how many weeks in the future we are doing our dengue prediction.\n",
    "\n",
    "`MAX_EXTRACT` and `LCD` will be dealt with below. "
   ]
  },
  {
   "cell_type": "code",
   "execution_count": 12,
   "metadata": {},
   "outputs": [],
   "source": [
    "DATA_WINDOW=16 #should be even\n",
    "LEAD_TIME=8\n",
    "MAX_EXTRACT=20 # rainfall window\n",
    "LCD=6 #should divide DATA_WINDOW or 7, increase to reduce noise"
   ]
  },
  {
   "cell_type": "code",
   "execution_count": 13,
   "metadata": {},
   "outputs": [],
   "source": [
    "rf_df=pd.DataFrame()\n",
    "tp_df=pd.DataFrame()\n",
    "\n",
    "for date in trancated_dengue.index:\n",
    "    if date in date_list:\n",
    "        df_pushback, dat=pull_dataframe(date, DATA_WINDOW*7, LEAD_TIME*7, rainfall_df, temperature_df, label1='rain_mean', label2='temp_mean')\n",
    "    if len(df_pushback)!=0:\n",
    "        rf_df[dat]=df_pushback['rain_mean'].values\n",
    "        tp_df[dat]=df_pushback['temp_mean'].values"
   ]
  },
  {
   "cell_type": "markdown",
   "metadata": {},
   "source": [
    "For instance, to do prediction on the dengue cases in 2000-06-19, rainfall and temperature data from 8-24 weeks back are used. This gives us a 112 days of rainfall and temperature data, which are indexed 0-111 down the columns in both the `rf_df` and `tp_df` dataframe."
   ]
  },
  {
   "cell_type": "code",
   "execution_count": 14,
   "metadata": {},
   "outputs": [
    {
     "data": {
      "text/plain": [
       "(112, 1011)"
      ]
     },
     "execution_count": 14,
     "metadata": {},
     "output_type": "execute_result"
    }
   ],
   "source": [
    "rf_df.shape"
   ]
  },
  {
   "cell_type": "code",
   "execution_count": 15,
   "metadata": {
    "scrolled": true
   },
   "outputs": [
    {
     "data": {
      "text/html": [
       "<div>\n",
       "<style scoped>\n",
       "    .dataframe tbody tr th:only-of-type {\n",
       "        vertical-align: middle;\n",
       "    }\n",
       "\n",
       "    .dataframe tbody tr th {\n",
       "        vertical-align: top;\n",
       "    }\n",
       "\n",
       "    .dataframe thead th {\n",
       "        text-align: right;\n",
       "    }\n",
       "</style>\n",
       "<table border=\"1\" class=\"dataframe\">\n",
       "  <thead>\n",
       "    <tr style=\"text-align: right;\">\n",
       "      <th></th>\n",
       "      <th>2000-06-19</th>\n",
       "      <th>2000-06-26</th>\n",
       "      <th>2000-07-03</th>\n",
       "      <th>2000-07-10</th>\n",
       "      <th>2000-07-17</th>\n",
       "      <th>2000-07-24</th>\n",
       "      <th>2000-07-31</th>\n",
       "      <th>2000-08-07</th>\n",
       "      <th>2000-08-14</th>\n",
       "      <th>2000-08-21</th>\n",
       "      <th>...</th>\n",
       "      <th>2019-09-23</th>\n",
       "      <th>2019-09-30</th>\n",
       "      <th>2019-10-07</th>\n",
       "      <th>2019-10-14</th>\n",
       "      <th>2019-10-21</th>\n",
       "      <th>2019-10-28</th>\n",
       "      <th>2019-11-04</th>\n",
       "      <th>2019-11-11</th>\n",
       "      <th>2019-11-18</th>\n",
       "      <th>2019-11-25</th>\n",
       "    </tr>\n",
       "  </thead>\n",
       "  <tbody>\n",
       "    <tr>\n",
       "      <th>0</th>\n",
       "      <td>-0.310010</td>\n",
       "      <td>-0.073947</td>\n",
       "      <td>3.517442</td>\n",
       "      <td>0.041939</td>\n",
       "      <td>0.111685</td>\n",
       "      <td>0.490103</td>\n",
       "      <td>0.227571</td>\n",
       "      <td>0.522293</td>\n",
       "      <td>-0.196628</td>\n",
       "      <td>-0.586133</td>\n",
       "      <td>...</td>\n",
       "      <td>-0.547973</td>\n",
       "      <td>-0.587407</td>\n",
       "      <td>-0.453151</td>\n",
       "      <td>0.010320</td>\n",
       "      <td>-0.592214</td>\n",
       "      <td>0.084418</td>\n",
       "      <td>-0.493584</td>\n",
       "      <td>-0.467996</td>\n",
       "      <td>2.402074</td>\n",
       "      <td>-0.533702</td>\n",
       "    </tr>\n",
       "    <tr>\n",
       "      <th>1</th>\n",
       "      <td>-0.538921</td>\n",
       "      <td>-0.314302</td>\n",
       "      <td>-0.212366</td>\n",
       "      <td>4.049301</td>\n",
       "      <td>0.213264</td>\n",
       "      <td>-0.090042</td>\n",
       "      <td>-0.570038</td>\n",
       "      <td>2.154710</td>\n",
       "      <td>-0.592214</td>\n",
       "      <td>-0.592214</td>\n",
       "      <td>...</td>\n",
       "      <td>0.056646</td>\n",
       "      <td>-0.497445</td>\n",
       "      <td>1.280273</td>\n",
       "      <td>-0.480978</td>\n",
       "      <td>-0.318208</td>\n",
       "      <td>0.090138</td>\n",
       "      <td>-0.465028</td>\n",
       "      <td>-0.544075</td>\n",
       "      <td>-0.301868</td>\n",
       "      <td>1.094485</td>\n",
       "    </tr>\n",
       "    <tr>\n",
       "      <th>2</th>\n",
       "      <td>3.938065</td>\n",
       "      <td>2.648656</td>\n",
       "      <td>-0.458087</td>\n",
       "      <td>-0.573973</td>\n",
       "      <td>-0.449145</td>\n",
       "      <td>0.259404</td>\n",
       "      <td>-0.592214</td>\n",
       "      <td>-0.014215</td>\n",
       "      <td>-0.399428</td>\n",
       "      <td>-0.592214</td>\n",
       "      <td>...</td>\n",
       "      <td>0.077174</td>\n",
       "      <td>-0.522840</td>\n",
       "      <td>-0.242273</td>\n",
       "      <td>-0.591184</td>\n",
       "      <td>4.154639</td>\n",
       "      <td>0.093992</td>\n",
       "      <td>-0.088903</td>\n",
       "      <td>-0.105665</td>\n",
       "      <td>-0.526974</td>\n",
       "      <td>1.554999</td>\n",
       "    </tr>\n",
       "    <tr>\n",
       "      <th>3</th>\n",
       "      <td>-0.405151</td>\n",
       "      <td>-0.492423</td>\n",
       "      <td>-0.591141</td>\n",
       "      <td>-0.558235</td>\n",
       "      <td>-0.546432</td>\n",
       "      <td>-0.403721</td>\n",
       "      <td>0.174636</td>\n",
       "      <td>0.164979</td>\n",
       "      <td>-0.529979</td>\n",
       "      <td>-0.554301</td>\n",
       "      <td>...</td>\n",
       "      <td>-0.168014</td>\n",
       "      <td>-0.475613</td>\n",
       "      <td>0.077540</td>\n",
       "      <td>-0.294688</td>\n",
       "      <td>-0.587063</td>\n",
       "      <td>0.078780</td>\n",
       "      <td>-0.561311</td>\n",
       "      <td>0.755671</td>\n",
       "      <td>0.516213</td>\n",
       "      <td>-0.197175</td>\n",
       "    </tr>\n",
       "    <tr>\n",
       "      <th>4</th>\n",
       "      <td>-0.575761</td>\n",
       "      <td>-0.546789</td>\n",
       "      <td>-0.592214</td>\n",
       "      <td>-0.465956</td>\n",
       "      <td>-0.592214</td>\n",
       "      <td>0.246886</td>\n",
       "      <td>0.553053</td>\n",
       "      <td>-0.351143</td>\n",
       "      <td>-0.559308</td>\n",
       "      <td>-0.592214</td>\n",
       "      <td>...</td>\n",
       "      <td>-0.497252</td>\n",
       "      <td>-0.065778</td>\n",
       "      <td>3.550218</td>\n",
       "      <td>-0.434437</td>\n",
       "      <td>0.905455</td>\n",
       "      <td>0.226825</td>\n",
       "      <td>-0.592214</td>\n",
       "      <td>-0.371709</td>\n",
       "      <td>1.049969</td>\n",
       "      <td>-0.436049</td>\n",
       "    </tr>\n",
       "  </tbody>\n",
       "</table>\n",
       "<p>5 rows × 1011 columns</p>\n",
       "</div>"
      ],
      "text/plain": [
       "   2000-06-19  2000-06-26  2000-07-03  2000-07-10  2000-07-17  2000-07-24  \\\n",
       "0   -0.310010   -0.073947    3.517442    0.041939    0.111685    0.490103   \n",
       "1   -0.538921   -0.314302   -0.212366    4.049301    0.213264   -0.090042   \n",
       "2    3.938065    2.648656   -0.458087   -0.573973   -0.449145    0.259404   \n",
       "3   -0.405151   -0.492423   -0.591141   -0.558235   -0.546432   -0.403721   \n",
       "4   -0.575761   -0.546789   -0.592214   -0.465956   -0.592214    0.246886   \n",
       "\n",
       "   2000-07-31  2000-08-07  2000-08-14  2000-08-21  ...  2019-09-23  \\\n",
       "0    0.227571    0.522293   -0.196628   -0.586133  ...   -0.547973   \n",
       "1   -0.570038    2.154710   -0.592214   -0.592214  ...    0.056646   \n",
       "2   -0.592214   -0.014215   -0.399428   -0.592214  ...    0.077174   \n",
       "3    0.174636    0.164979   -0.529979   -0.554301  ...   -0.168014   \n",
       "4    0.553053   -0.351143   -0.559308   -0.592214  ...   -0.497252   \n",
       "\n",
       "   2019-09-30  2019-10-07  2019-10-14  2019-10-21  2019-10-28  2019-11-04  \\\n",
       "0   -0.587407   -0.453151    0.010320   -0.592214    0.084418   -0.493584   \n",
       "1   -0.497445    1.280273   -0.480978   -0.318208    0.090138   -0.465028   \n",
       "2   -0.522840   -0.242273   -0.591184    4.154639    0.093992   -0.088903   \n",
       "3   -0.475613    0.077540   -0.294688   -0.587063    0.078780   -0.561311   \n",
       "4   -0.065778    3.550218   -0.434437    0.905455    0.226825   -0.592214   \n",
       "\n",
       "   2019-11-11  2019-11-18  2019-11-25  \n",
       "0   -0.467996    2.402074   -0.533702  \n",
       "1   -0.544075   -0.301868    1.094485  \n",
       "2   -0.105665   -0.526974    1.554999  \n",
       "3    0.755671    0.516213   -0.197175  \n",
       "4   -0.371709    1.049969   -0.436049  \n",
       "\n",
       "[5 rows x 1011 columns]"
      ]
     },
     "execution_count": 15,
     "metadata": {},
     "output_type": "execute_result"
    }
   ],
   "source": [
    "rf_df.head()"
   ]
  },
  {
   "cell_type": "markdown",
   "metadata": {},
   "source": [
    "### Noise Reduction\n",
    "\n",
    "The rainfall daily and temperature data are noisy. As explained in the medium article, we will be focusing on the maximum $n$ days, as well as other metrics (such as mean and std) to reduce the noise.\n",
    "\n",
    "`MAX_EXTRACT`=$n$. Takes out the maximum $n$ rainfall/temperature data down each column.\n",
    "\n",
    "`LCD`=$d$. Takes an interval of $d$ days from the `DATA_WINDOW*7=112` days and averages it."
   ]
  },
  {
   "cell_type": "code",
   "execution_count": 16,
   "metadata": {},
   "outputs": [],
   "source": [
    "def extract_max(df, n , label):\n",
    "  size=np.argsort(df.values, axis=0)[-n:].T.shape\n",
    "  ref=np.argsort(df.values, axis=0)[-n:]\n",
    "  # rainfall_values=rf_df.values.T\n",
    "  maximum_values=np.zeros((size[0], n))\n",
    "\n",
    "  for i in range(size[0]):\n",
    "    for j in range(n):\n",
    "      pos=ref.T[i][j]\n",
    "      val=df.values[pos][i]\n",
    "      maximum_values[i, j]=val\n",
    "\n",
    "  columns_list=[]\n",
    "  for i in range(1, n+1):\n",
    "    columns_list.append(label+str(i))\n",
    "\n",
    "  maximum_df=pd.DataFrame(maximum_values, columns=columns_list)\n",
    "  return maximum_df\n",
    "\n",
    "maximum_rainfall_df=extract_max(rf_df, MAX_EXTRACT, 'rainfallmax')\n",
    "maximum_temperature_df=extract_max(tp_df, MAX_EXTRACT, 'temperaturemax')"
   ]
  },
  {
   "cell_type": "code",
   "execution_count": 17,
   "metadata": {},
   "outputs": [],
   "source": [
    "def seven_day_mean(n, d, **kwargs): # where d should be a divisor of n, chooose d smaller for more 'rugged' data\n",
    "    a=pd.DataFrame()\n",
    "    for j, df in zip(kwargs.keys(), kwargs.values()):\n",
    "        for i in range(0, n , d):\n",
    "            label=str(j)+str( i)\n",
    "            a[label]=df[i:i+d].mean(axis=0)\n",
    "    return a"
   ]
  },
  {
   "cell_type": "code",
   "execution_count": 18,
   "metadata": {},
   "outputs": [],
   "source": [
    "df_seven_day_mean=seven_day_mean(DATA_WINDOW*7, LCD, mean_rain=rf_df, mean_temp=tp_df)"
   ]
  },
  {
   "cell_type": "code",
   "execution_count": 19,
   "metadata": {},
   "outputs": [],
   "source": [
    "# for rainfall/temp metrics such as max, min, std, med\n",
    "mean_df=pd.DataFrame()\n",
    "\n",
    "mean_df['temp_mean']=list(tp_df.mean(axis=0))\n",
    "mean_df['temp_std']=list(tp_df.std(axis=0))\n",
    "mean_df['temp_min']=list(tp_df.min(axis=0))\n",
    "mean_df['temp_max']=list(tp_df.max(axis=0))\n",
    "mean_df['temp_med']=list(tp_df.median(axis=0))\n",
    "\n",
    "mean_df['rain_mean']=list(rf_df.mean(axis=0))\n",
    "mean_df['rain_std']=list(rf_df.std(axis=0))\n",
    "mean_df['rain_min']=list(rf_df.min(axis=0))\n",
    "mean_df['rain_max']=list(rf_df.max(axis=0))\n",
    "mean_df['rain_med']=list(rf_df.median(axis=0))"
   ]
  },
  {
   "cell_type": "code",
   "execution_count": 20,
   "metadata": {},
   "outputs": [],
   "source": [
    "mean_df=mean_df.merge(maximum_rainfall_df, left_index=True, right_index=True)\n",
    "mean_df=mean_df.merge(maximum_temperature_df, left_index=True, right_index=True)"
   ]
  },
  {
   "cell_type": "code",
   "execution_count": 21,
   "metadata": {},
   "outputs": [],
   "source": [
    "indexes=df_seven_day_mean.index\n",
    "df_seven_day_mean.reset_index(drop=True, inplace=True)\n",
    "mean_df.reset_index(drop=True, inplace=True)"
   ]
  },
  {
   "cell_type": "code",
   "execution_count": 22,
   "metadata": {},
   "outputs": [],
   "source": [
    "def merge(a, b):\n",
    "    indexes=a.index\n",
    "    a.reset_index(drop=True, inplace=True)\n",
    "    b.reset_index(drop=True, inplace=True)\n",
    "    for col in b.columns:\n",
    "        a[col]=b[col]\n",
    "    a.index=indexes\n",
    "    return a\n",
    "\n",
    "mean_df=merge(mean_df, df_seven_day_mean)\n",
    "mean_df.index=indexes\n",
    "combined_Data=mean_df"
   ]
  },
  {
   "cell_type": "code",
   "execution_count": 23,
   "metadata": {},
   "outputs": [],
   "source": [
    "dengue_append=trancated_dengue[trancated_dengue.index>=combined_Data.index[0]]"
   ]
  },
  {
   "cell_type": "code",
   "execution_count": 24,
   "metadata": {},
   "outputs": [],
   "source": [
    "combined_Data['dengue_actual']=dengue_append['dengue']"
   ]
  },
  {
   "cell_type": "markdown",
   "metadata": {},
   "source": [
    "### Adding population data "
   ]
  },
  {
   "cell_type": "code",
   "execution_count": 25,
   "metadata": {},
   "outputs": [],
   "source": [
    "pop_df=pop_df[pop_df['year']>=2000]\n",
    "a=[]\n",
    "for i in combined_Data.index:\n",
    "    a.append(pop_dict[i.year])\n",
    "\n",
    "combined_Data['population']=a"
   ]
  },
  {
   "cell_type": "markdown",
   "metadata": {},
   "source": [
    "### Adding past dengue data\n",
    "\n",
    "This section adds past dengue data prior to the actual date which we wish to predict. For instance, if we wish to predict dengue cases in week $24$ with a lead time of $8$, dengue cases from week $1-16$ are included."
   ]
  },
  {
   "cell_type": "code",
   "execution_count": 26,
   "metadata": {},
   "outputs": [],
   "source": [
    "def shift(df, data_window, lead_time):\n",
    "  dengue_shift=pd.DataFrame()\n",
    "  for i in range(data_window+lead_time+1):\n",
    "      dengue_shift[-i]=list(df['dengue'].shift(i))\n",
    "  for i in range(LEAD_TIME+1):\n",
    "    dengue_shift.drop([-i], axis=1, inplace=True)\n",
    "  dengue_shift=dengue_shift.dropna()\n",
    "  return dengue_shift"
   ]
  },
  {
   "cell_type": "code",
   "execution_count": 27,
   "metadata": {},
   "outputs": [],
   "source": [
    "dengue_shift=shift(trancated_dengue, DATA_WINDOW, LEAD_TIME)"
   ]
  },
  {
   "cell_type": "code",
   "execution_count": 28,
   "metadata": {
    "scrolled": true
   },
   "outputs": [
    {
     "data": {
      "text/html": [
       "<div>\n",
       "<style scoped>\n",
       "    .dataframe tbody tr th:only-of-type {\n",
       "        vertical-align: middle;\n",
       "    }\n",
       "\n",
       "    .dataframe tbody tr th {\n",
       "        vertical-align: top;\n",
       "    }\n",
       "\n",
       "    .dataframe thead th {\n",
       "        text-align: right;\n",
       "    }\n",
       "</style>\n",
       "<table border=\"1\" class=\"dataframe\">\n",
       "  <thead>\n",
       "    <tr style=\"text-align: right;\">\n",
       "      <th></th>\n",
       "      <th>-9</th>\n",
       "      <th>-10</th>\n",
       "      <th>-11</th>\n",
       "      <th>-12</th>\n",
       "      <th>-13</th>\n",
       "      <th>-14</th>\n",
       "      <th>-15</th>\n",
       "      <th>-16</th>\n",
       "      <th>-17</th>\n",
       "      <th>-18</th>\n",
       "      <th>-19</th>\n",
       "      <th>-20</th>\n",
       "      <th>-21</th>\n",
       "      <th>-22</th>\n",
       "      <th>-23</th>\n",
       "      <th>-24</th>\n",
       "    </tr>\n",
       "  </thead>\n",
       "  <tbody>\n",
       "    <tr>\n",
       "      <th>24</th>\n",
       "      <td>-1.008324</td>\n",
       "      <td>-1.008324</td>\n",
       "      <td>-1.035955</td>\n",
       "      <td>-1.022139</td>\n",
       "      <td>-0.980693</td>\n",
       "      <td>-1.042862</td>\n",
       "      <td>-0.987601</td>\n",
       "      <td>-0.966878</td>\n",
       "      <td>-0.953062</td>\n",
       "      <td>-1.029047</td>\n",
       "      <td>-0.932339</td>\n",
       "      <td>-0.973785</td>\n",
       "      <td>-0.959970</td>\n",
       "      <td>-0.959970</td>\n",
       "      <td>-0.994508</td>\n",
       "      <td>-0.946154</td>\n",
       "    </tr>\n",
       "    <tr>\n",
       "      <th>25</th>\n",
       "      <td>-0.980693</td>\n",
       "      <td>-1.008324</td>\n",
       "      <td>-1.008324</td>\n",
       "      <td>-1.035955</td>\n",
       "      <td>-1.022139</td>\n",
       "      <td>-0.980693</td>\n",
       "      <td>-1.042862</td>\n",
       "      <td>-0.987601</td>\n",
       "      <td>-0.966878</td>\n",
       "      <td>-0.953062</td>\n",
       "      <td>-1.029047</td>\n",
       "      <td>-0.932339</td>\n",
       "      <td>-0.973785</td>\n",
       "      <td>-0.959970</td>\n",
       "      <td>-0.959970</td>\n",
       "      <td>-0.994508</td>\n",
       "    </tr>\n",
       "    <tr>\n",
       "      <th>26</th>\n",
       "      <td>-0.987601</td>\n",
       "      <td>-0.980693</td>\n",
       "      <td>-1.008324</td>\n",
       "      <td>-1.008324</td>\n",
       "      <td>-1.035955</td>\n",
       "      <td>-1.022139</td>\n",
       "      <td>-0.980693</td>\n",
       "      <td>-1.042862</td>\n",
       "      <td>-0.987601</td>\n",
       "      <td>-0.966878</td>\n",
       "      <td>-0.953062</td>\n",
       "      <td>-1.029047</td>\n",
       "      <td>-0.932339</td>\n",
       "      <td>-0.973785</td>\n",
       "      <td>-0.959970</td>\n",
       "      <td>-0.959970</td>\n",
       "    </tr>\n",
       "    <tr>\n",
       "      <th>27</th>\n",
       "      <td>-1.015231</td>\n",
       "      <td>-0.987601</td>\n",
       "      <td>-0.980693</td>\n",
       "      <td>-1.008324</td>\n",
       "      <td>-1.008324</td>\n",
       "      <td>-1.035955</td>\n",
       "      <td>-1.022139</td>\n",
       "      <td>-0.980693</td>\n",
       "      <td>-1.042862</td>\n",
       "      <td>-0.987601</td>\n",
       "      <td>-0.966878</td>\n",
       "      <td>-0.953062</td>\n",
       "      <td>-1.029047</td>\n",
       "      <td>-0.932339</td>\n",
       "      <td>-0.973785</td>\n",
       "      <td>-0.959970</td>\n",
       "    </tr>\n",
       "    <tr>\n",
       "      <th>28</th>\n",
       "      <td>-0.973785</td>\n",
       "      <td>-1.015231</td>\n",
       "      <td>-0.987601</td>\n",
       "      <td>-0.980693</td>\n",
       "      <td>-1.008324</td>\n",
       "      <td>-1.008324</td>\n",
       "      <td>-1.035955</td>\n",
       "      <td>-1.022139</td>\n",
       "      <td>-0.980693</td>\n",
       "      <td>-1.042862</td>\n",
       "      <td>-0.987601</td>\n",
       "      <td>-0.966878</td>\n",
       "      <td>-0.953062</td>\n",
       "      <td>-1.029047</td>\n",
       "      <td>-0.932339</td>\n",
       "      <td>-0.973785</td>\n",
       "    </tr>\n",
       "  </tbody>\n",
       "</table>\n",
       "</div>"
      ],
      "text/plain": [
       "         -9        -10       -11       -12       -13       -14       -15  \\\n",
       "24 -1.008324 -1.008324 -1.035955 -1.022139 -0.980693 -1.042862 -0.987601   \n",
       "25 -0.980693 -1.008324 -1.008324 -1.035955 -1.022139 -0.980693 -1.042862   \n",
       "26 -0.987601 -0.980693 -1.008324 -1.008324 -1.035955 -1.022139 -0.980693   \n",
       "27 -1.015231 -0.987601 -0.980693 -1.008324 -1.008324 -1.035955 -1.022139   \n",
       "28 -0.973785 -1.015231 -0.987601 -0.980693 -1.008324 -1.008324 -1.035955   \n",
       "\n",
       "         -16       -17       -18       -19       -20       -21       -22  \\\n",
       "24 -0.966878 -0.953062 -1.029047 -0.932339 -0.973785 -0.959970 -0.959970   \n",
       "25 -0.987601 -0.966878 -0.953062 -1.029047 -0.932339 -0.973785 -0.959970   \n",
       "26 -1.042862 -0.987601 -0.966878 -0.953062 -1.029047 -0.932339 -0.973785   \n",
       "27 -0.980693 -1.042862 -0.987601 -0.966878 -0.953062 -1.029047 -0.932339   \n",
       "28 -1.022139 -0.980693 -1.042862 -0.987601 -0.966878 -0.953062 -1.029047   \n",
       "\n",
       "         -23       -24  \n",
       "24 -0.994508 -0.946154  \n",
       "25 -0.959970 -0.994508  \n",
       "26 -0.959970 -0.959970  \n",
       "27 -0.973785 -0.959970  \n",
       "28 -0.932339 -0.973785  "
      ]
     },
     "execution_count": 28,
     "metadata": {},
     "output_type": "execute_result"
    }
   ],
   "source": [
    "# here, -9 indicates the most recent data and -24 incidcates the most outdated data, ie 15 weeks before week -9. \n",
    "# The week which we wish to predict is considered week 0 which corresponds to a lead time of 8.\n",
    "dengue_shift.head()"
   ]
  },
  {
   "cell_type": "markdown",
   "metadata": {},
   "source": [
    "This averages specific columns from the `dengue_shift` dataframe. `ave2` takes in the 2 most recent data entries and averages them. (ie. from -9 to -10). `ave4` takes in the 4 most recent entries and does the same. (ie. from -9 to -13). This tries to reduce noise in the dengue dataset without completely getting rid of it."
   ]
  },
  {
   "cell_type": "code",
   "execution_count": 29,
   "metadata": {},
   "outputs": [],
   "source": [
    "def average_last_n_cols(df, *args):\n",
    "  df_average=pd.DataFrame()\n",
    "  c= copy.copy(df)\n",
    "  for n in args:\n",
    "    f=c[c.columns[0:n]]\n",
    "    average_n=f.mean(axis=1)\n",
    "    label='ave' + str(n)\n",
    "    df_average[label]=average_n\n",
    "  return df_average"
   ]
  },
  {
   "cell_type": "code",
   "execution_count": 30,
   "metadata": {},
   "outputs": [],
   "source": [
    "ave_intevals=list(np.arange(2, DATA_WINDOW+2, 2))\n",
    "dengue_average=average_last_n_cols(dengue_shift, *ave_intevals)"
   ]
  },
  {
   "cell_type": "code",
   "execution_count": 31,
   "metadata": {},
   "outputs": [
    {
     "data": {
      "text/html": [
       "<div>\n",
       "<style scoped>\n",
       "    .dataframe tbody tr th:only-of-type {\n",
       "        vertical-align: middle;\n",
       "    }\n",
       "\n",
       "    .dataframe tbody tr th {\n",
       "        vertical-align: top;\n",
       "    }\n",
       "\n",
       "    .dataframe thead th {\n",
       "        text-align: right;\n",
       "    }\n",
       "</style>\n",
       "<table border=\"1\" class=\"dataframe\">\n",
       "  <thead>\n",
       "    <tr style=\"text-align: right;\">\n",
       "      <th></th>\n",
       "      <th>ave2</th>\n",
       "      <th>ave4</th>\n",
       "      <th>ave6</th>\n",
       "      <th>ave8</th>\n",
       "      <th>ave10</th>\n",
       "      <th>ave12</th>\n",
       "      <th>ave14</th>\n",
       "      <th>ave16</th>\n",
       "    </tr>\n",
       "  </thead>\n",
       "  <tbody>\n",
       "    <tr>\n",
       "      <th>24</th>\n",
       "      <td>-1.008324</td>\n",
       "      <td>-1.018685</td>\n",
       "      <td>-1.016383</td>\n",
       "      <td>-1.006597</td>\n",
       "      <td>-1.003488</td>\n",
       "      <td>-0.995084</td>\n",
       "      <td>-0.990068</td>\n",
       "      <td>-0.987601</td>\n",
       "    </tr>\n",
       "    <tr>\n",
       "      <th>25</th>\n",
       "      <td>-0.994508</td>\n",
       "      <td>-1.008324</td>\n",
       "      <td>-1.006021</td>\n",
       "      <td>-1.008324</td>\n",
       "      <td>-0.998653</td>\n",
       "      <td>-0.995660</td>\n",
       "      <td>-0.991548</td>\n",
       "      <td>-0.989759</td>\n",
       "    </tr>\n",
       "    <tr>\n",
       "      <th>26</th>\n",
       "      <td>-0.984147</td>\n",
       "      <td>-0.996235</td>\n",
       "      <td>-1.007172</td>\n",
       "      <td>-1.008324</td>\n",
       "      <td>-1.002107</td>\n",
       "      <td>-1.000265</td>\n",
       "      <td>-0.993522</td>\n",
       "      <td>-0.989328</td>\n",
       "    </tr>\n",
       "    <tr>\n",
       "      <th>27</th>\n",
       "      <td>-1.001416</td>\n",
       "      <td>-0.997962</td>\n",
       "      <td>-1.006021</td>\n",
       "      <td>-1.004870</td>\n",
       "      <td>-1.006942</td>\n",
       "      <td>-0.999113</td>\n",
       "      <td>-0.996482</td>\n",
       "      <td>-0.992781</td>\n",
       "    </tr>\n",
       "    <tr>\n",
       "      <th>28</th>\n",
       "      <td>-0.994508</td>\n",
       "      <td>-0.989328</td>\n",
       "      <td>-0.995660</td>\n",
       "      <td>-1.004006</td>\n",
       "      <td>-1.005561</td>\n",
       "      <td>-1.000840</td>\n",
       "      <td>-0.999442</td>\n",
       "      <td>-0.993645</td>\n",
       "    </tr>\n",
       "  </tbody>\n",
       "</table>\n",
       "</div>"
      ],
      "text/plain": [
       "        ave2      ave4      ave6      ave8     ave10     ave12     ave14  \\\n",
       "24 -1.008324 -1.018685 -1.016383 -1.006597 -1.003488 -0.995084 -0.990068   \n",
       "25 -0.994508 -1.008324 -1.006021 -1.008324 -0.998653 -0.995660 -0.991548   \n",
       "26 -0.984147 -0.996235 -1.007172 -1.008324 -1.002107 -1.000265 -0.993522   \n",
       "27 -1.001416 -0.997962 -1.006021 -1.004870 -1.006942 -0.999113 -0.996482   \n",
       "28 -0.994508 -0.989328 -0.995660 -1.004006 -1.005561 -1.000840 -0.999442   \n",
       "\n",
       "       ave16  \n",
       "24 -0.987601  \n",
       "25 -0.989759  \n",
       "26 -0.989328  \n",
       "27 -0.992781  \n",
       "28 -0.993645  "
      ]
     },
     "execution_count": 31,
     "metadata": {},
     "output_type": "execute_result"
    }
   ],
   "source": [
    "dengue_average.head()"
   ]
  },
  {
   "cell_type": "code",
   "execution_count": 32,
   "metadata": {},
   "outputs": [],
   "source": [
    "dengue_process=merge(dengue_shift, dengue_average)"
   ]
  },
  {
   "cell_type": "markdown",
   "metadata": {},
   "source": [
    "### Adding dengue trends\n",
    "\n",
    "`trend` is simply: (last week-first week)/DATA_WINDOW, and in our case: `(week[-9]-week[-24])/DATA_WINDOW)`.\n",
    "\n",
    "`strong_trend` takes: (ave2-ave(DATA_WINDOW))/DATA_WINDOW, and in our case: `(ave2-ave16)/DATA_WINDOW)`.\n"
   ]
  },
  {
   "cell_type": "code",
   "execution_count": 33,
   "metadata": {},
   "outputs": [],
   "source": [
    "def df_trend(df, lead_time, data_window):\n",
    "  dengue_trend=pd.DataFrame()\n",
    "  dengue_trend['trend']=(df[-data_window-lead_time]-dengue_shift[-lead_time-1])/data_window\n",
    "  return dengue_trend\n",
    "\n",
    "def df_str_trend(df, weak, strong, data_window):\n",
    "  strong_trend=pd.DataFrame()\n",
    "  weak_label='ave'+str(weak)\n",
    "  strong_label='ave'+str(strong)\n",
    "  strong_trend['strong_trend']=(df[strong_label]-dengue_shift[weak_label])/data_window\n",
    "  return strong_trend"
   ]
  },
  {
   "cell_type": "code",
   "execution_count": 34,
   "metadata": {},
   "outputs": [],
   "source": [
    "dengue_trend=df_trend(dengue_process, LEAD_TIME, DATA_WINDOW)\n",
    "strong_trend=df_str_trend(dengue_process, 2, DATA_WINDOW, DATA_WINDOW)"
   ]
  },
  {
   "cell_type": "code",
   "execution_count": 35,
   "metadata": {},
   "outputs": [],
   "source": [
    "dengue_process=merge(dengue_process, dengue_trend)\n",
    "dengue_process=merge(dengue_process, strong_trend)\n",
    "dengue_process['dengue_std']=list(dengue_shift.std(axis=1))"
   ]
  },
  {
   "cell_type": "code",
   "execution_count": 36,
   "metadata": {},
   "outputs": [],
   "source": [
    "dengue_process_norm=normaliser(dengue_process, 'trend', 'strong_trend')"
   ]
  },
  {
   "cell_type": "code",
   "execution_count": 37,
   "metadata": {},
   "outputs": [],
   "source": [
    "combined_Data=merge(dengue_process_norm, combined_Data)\n",
    "combined_Data.index=indexes"
   ]
  },
  {
   "cell_type": "code",
   "execution_count": 38,
   "metadata": {},
   "outputs": [
    {
     "data": {
      "text/html": [
       "<div>\n",
       "<style scoped>\n",
       "    .dataframe tbody tr th:only-of-type {\n",
       "        vertical-align: middle;\n",
       "    }\n",
       "\n",
       "    .dataframe tbody tr th {\n",
       "        vertical-align: top;\n",
       "    }\n",
       "\n",
       "    .dataframe thead th {\n",
       "        text-align: right;\n",
       "    }\n",
       "</style>\n",
       "<table border=\"1\" class=\"dataframe\">\n",
       "  <thead>\n",
       "    <tr style=\"text-align: right;\">\n",
       "      <th></th>\n",
       "      <th>-9</th>\n",
       "      <th>-10</th>\n",
       "      <th>-11</th>\n",
       "      <th>-12</th>\n",
       "      <th>-13</th>\n",
       "      <th>-14</th>\n",
       "      <th>-15</th>\n",
       "      <th>-16</th>\n",
       "      <th>-17</th>\n",
       "      <th>-18</th>\n",
       "      <th>...</th>\n",
       "      <th>mean_temp66</th>\n",
       "      <th>mean_temp72</th>\n",
       "      <th>mean_temp78</th>\n",
       "      <th>mean_temp84</th>\n",
       "      <th>mean_temp90</th>\n",
       "      <th>mean_temp96</th>\n",
       "      <th>mean_temp102</th>\n",
       "      <th>mean_temp108</th>\n",
       "      <th>dengue_actual</th>\n",
       "      <th>population</th>\n",
       "    </tr>\n",
       "  </thead>\n",
       "  <tbody>\n",
       "    <tr>\n",
       "      <th>2000-06-19</th>\n",
       "      <td>-1.008324</td>\n",
       "      <td>-1.008324</td>\n",
       "      <td>-1.035955</td>\n",
       "      <td>-1.022139</td>\n",
       "      <td>-0.980693</td>\n",
       "      <td>-1.042862</td>\n",
       "      <td>-0.987601</td>\n",
       "      <td>-0.966878</td>\n",
       "      <td>-0.953062</td>\n",
       "      <td>-1.029047</td>\n",
       "      <td>...</td>\n",
       "      <td>-0.353033</td>\n",
       "      <td>-1.176515</td>\n",
       "      <td>-1.063192</td>\n",
       "      <td>-1.187848</td>\n",
       "      <td>-0.424804</td>\n",
       "      <td>-0.458801</td>\n",
       "      <td>-0.073502</td>\n",
       "      <td>-0.558904</td>\n",
       "      <td>-0.987601</td>\n",
       "      <td>4027887</td>\n",
       "    </tr>\n",
       "    <tr>\n",
       "      <th>2000-06-26</th>\n",
       "      <td>-0.980693</td>\n",
       "      <td>-1.008324</td>\n",
       "      <td>-1.008324</td>\n",
       "      <td>-1.035955</td>\n",
       "      <td>-1.022139</td>\n",
       "      <td>-0.980693</td>\n",
       "      <td>-1.042862</td>\n",
       "      <td>-0.987601</td>\n",
       "      <td>-0.966878</td>\n",
       "      <td>-0.953062</td>\n",
       "      <td>...</td>\n",
       "      <td>-1.112299</td>\n",
       "      <td>-1.078302</td>\n",
       "      <td>-1.044305</td>\n",
       "      <td>-0.557015</td>\n",
       "      <td>0.005824</td>\n",
       "      <td>-0.436137</td>\n",
       "      <td>-0.651451</td>\n",
       "      <td>-0.536239</td>\n",
       "      <td>-0.918524</td>\n",
       "      <td>4027887</td>\n",
       "    </tr>\n",
       "    <tr>\n",
       "      <th>2000-07-03</th>\n",
       "      <td>-0.987601</td>\n",
       "      <td>-0.980693</td>\n",
       "      <td>-1.008324</td>\n",
       "      <td>-1.008324</td>\n",
       "      <td>-1.035955</td>\n",
       "      <td>-1.022139</td>\n",
       "      <td>-0.980693</td>\n",
       "      <td>-1.042862</td>\n",
       "      <td>-0.987601</td>\n",
       "      <td>-0.966878</td>\n",
       "      <td>...</td>\n",
       "      <td>-1.010308</td>\n",
       "      <td>-0.772329</td>\n",
       "      <td>-0.727000</td>\n",
       "      <td>0.402455</td>\n",
       "      <td>-0.930982</td>\n",
       "      <td>-0.677893</td>\n",
       "      <td>-0.194380</td>\n",
       "      <td>-0.439914</td>\n",
       "      <td>-0.973785</td>\n",
       "      <td>4027887</td>\n",
       "    </tr>\n",
       "    <tr>\n",
       "      <th>2000-07-10</th>\n",
       "      <td>-1.015231</td>\n",
       "      <td>-0.987601</td>\n",
       "      <td>-0.980693</td>\n",
       "      <td>-1.008324</td>\n",
       "      <td>-1.008324</td>\n",
       "      <td>-1.035955</td>\n",
       "      <td>-1.022139</td>\n",
       "      <td>-0.980693</td>\n",
       "      <td>-1.042862</td>\n",
       "      <td>-0.987601</td>\n",
       "      <td>...</td>\n",
       "      <td>-0.647673</td>\n",
       "      <td>-0.840323</td>\n",
       "      <td>0.474227</td>\n",
       "      <td>-0.760997</td>\n",
       "      <td>-0.715667</td>\n",
       "      <td>-0.273707</td>\n",
       "      <td>0.353349</td>\n",
       "      <td>1.084284</td>\n",
       "      <td>-0.980693</td>\n",
       "      <td>4027887</td>\n",
       "    </tr>\n",
       "    <tr>\n",
       "      <th>2000-07-17</th>\n",
       "      <td>-0.973785</td>\n",
       "      <td>-1.015231</td>\n",
       "      <td>-0.987601</td>\n",
       "      <td>-0.980693</td>\n",
       "      <td>-1.008324</td>\n",
       "      <td>-1.008324</td>\n",
       "      <td>-1.035955</td>\n",
       "      <td>-1.022139</td>\n",
       "      <td>-0.980693</td>\n",
       "      <td>-1.042862</td>\n",
       "      <td>...</td>\n",
       "      <td>-0.893207</td>\n",
       "      <td>0.360904</td>\n",
       "      <td>-0.545683</td>\n",
       "      <td>-0.591012</td>\n",
       "      <td>-0.500353</td>\n",
       "      <td>0.579995</td>\n",
       "      <td>1.040843</td>\n",
       "      <td>1.203273</td>\n",
       "      <td>-0.973785</td>\n",
       "      <td>4027887</td>\n",
       "    </tr>\n",
       "  </tbody>\n",
       "</table>\n",
       "<p>5 rows × 117 columns</p>\n",
       "</div>"
      ],
      "text/plain": [
       "                  -9       -10       -11       -12       -13       -14  \\\n",
       "2000-06-19 -1.008324 -1.008324 -1.035955 -1.022139 -0.980693 -1.042862   \n",
       "2000-06-26 -0.980693 -1.008324 -1.008324 -1.035955 -1.022139 -0.980693   \n",
       "2000-07-03 -0.987601 -0.980693 -1.008324 -1.008324 -1.035955 -1.022139   \n",
       "2000-07-10 -1.015231 -0.987601 -0.980693 -1.008324 -1.008324 -1.035955   \n",
       "2000-07-17 -0.973785 -1.015231 -0.987601 -0.980693 -1.008324 -1.008324   \n",
       "\n",
       "                 -15       -16       -17       -18  ...  mean_temp66  \\\n",
       "2000-06-19 -0.987601 -0.966878 -0.953062 -1.029047  ...    -0.353033   \n",
       "2000-06-26 -1.042862 -0.987601 -0.966878 -0.953062  ...    -1.112299   \n",
       "2000-07-03 -0.980693 -1.042862 -0.987601 -0.966878  ...    -1.010308   \n",
       "2000-07-10 -1.022139 -0.980693 -1.042862 -0.987601  ...    -0.647673   \n",
       "2000-07-17 -1.035955 -1.022139 -0.980693 -1.042862  ...    -0.893207   \n",
       "\n",
       "            mean_temp72  mean_temp78  mean_temp84  mean_temp90  mean_temp96  \\\n",
       "2000-06-19    -1.176515    -1.063192    -1.187848    -0.424804    -0.458801   \n",
       "2000-06-26    -1.078302    -1.044305    -0.557015     0.005824    -0.436137   \n",
       "2000-07-03    -0.772329    -0.727000     0.402455    -0.930982    -0.677893   \n",
       "2000-07-10    -0.840323     0.474227    -0.760997    -0.715667    -0.273707   \n",
       "2000-07-17     0.360904    -0.545683    -0.591012    -0.500353     0.579995   \n",
       "\n",
       "            mean_temp102  mean_temp108  dengue_actual  population  \n",
       "2000-06-19     -0.073502     -0.558904      -0.987601     4027887  \n",
       "2000-06-26     -0.651451     -0.536239      -0.918524     4027887  \n",
       "2000-07-03     -0.194380     -0.439914      -0.973785     4027887  \n",
       "2000-07-10      0.353349      1.084284      -0.980693     4027887  \n",
       "2000-07-17      1.040843      1.203273      -0.973785     4027887  \n",
       "\n",
       "[5 rows x 117 columns]"
      ]
     },
     "execution_count": 38,
     "metadata": {},
     "output_type": "execute_result"
    }
   ],
   "source": [
    "combined_Data.head()"
   ]
  },
  {
   "cell_type": "markdown",
   "metadata": {},
   "source": [
    "### Adding year month data"
   ]
  },
  {
   "cell_type": "code",
   "execution_count": 39,
   "metadata": {},
   "outputs": [],
   "source": [
    "combined_Data['year']=combined_Data.index.year\n",
    "combined_Data['month']=combined_Data.index.month\n",
    "combined_Data['trend']=list(dengue_trend['trend'])"
   ]
  },
  {
   "cell_type": "code",
   "execution_count": 40,
   "metadata": {},
   "outputs": [],
   "source": [
    "combined_Data=normaliser(combined_Data, 'year','month', 'population')"
   ]
  },
  {
   "cell_type": "code",
   "execution_count": 41,
   "metadata": {},
   "outputs": [],
   "source": [
    "def move_dengue_actual_to_back(df):\n",
    " a=pd.DataFrame(df['dengue_actual'])\n",
    " df.drop(['dengue_actual'], axis=1, inplace=True)\n",
    " df['dengue_actual']=a\n",
    " return df"
   ]
  },
  {
   "cell_type": "code",
   "execution_count": 42,
   "metadata": {},
   "outputs": [],
   "source": [
    "df_normalised=move_dengue_actual_to_back(combined_Data)"
   ]
  },
  {
   "cell_type": "code",
   "execution_count": null,
   "metadata": {},
   "outputs": [],
   "source": [
    "df_normalis"
   ]
  },
  {
   "cell_type": "markdown",
   "metadata": {},
   "source": [
    "### Splitting the data\n",
    "Into X (features) and y (labels) and into training the testing sets"
   ]
  },
  {
   "cell_type": "code",
   "execution_count": 43,
   "metadata": {},
   "outputs": [],
   "source": [
    "X=df_normalised.drop('dengue_actual', axis=1)\n",
    "Y=pd.DataFrame(df_normalised['dengue_actual'])"
   ]
  },
  {
   "cell_type": "code",
   "execution_count": 44,
   "metadata": {},
   "outputs": [],
   "source": [
    "def euclid_loss(a,b):\n",
    "    return np.mean((a-b)**2)\n",
    "\n",
    "def baseline(df):\n",
    "  a=df[-LEAD_TIME-1]\n",
    "  b=df['dengue_actual']\n",
    "  return euclid_loss(a,b), list(a), list(b)"
   ]
  },
  {
   "cell_type": "code",
   "execution_count": 45,
   "metadata": {},
   "outputs": [
    {
     "name": "stdout",
     "output_type": "stream",
     "text": [
      "101\n"
     ]
    }
   ],
   "source": [
    "ratio=0.90\n",
    "train_size=int(len(X)*ratio)\n",
    "test_size=int(len(X)*(1-ratio));\n",
    "print(test_size)"
   ]
  },
  {
   "cell_type": "markdown",
   "metadata": {},
   "source": [
    "### Baseline prediction\n",
    "Involves shifting the graph `-LEAD_TIME` units and simply making predictions out of this shifted graph. This is the loss we will attempt to beat."
   ]
  },
  {
   "cell_type": "code",
   "execution_count": 46,
   "metadata": {},
   "outputs": [
    {
     "data": {
      "text/plain": [
       "1.0314973708352237"
      ]
     },
     "execution_count": 46,
     "metadata": {},
     "output_type": "execute_result"
    }
   ],
   "source": [
    "loss, pred, actual=baseline(df_normalised[-test_size:]); loss"
   ]
  },
  {
   "cell_type": "code",
   "execution_count": 47,
   "metadata": {},
   "outputs": [
    {
     "data": {
      "image/png": "[encoded data removed]",
      "text/plain": [
       "<Figure size 432x288 with 1 Axes>"
      ]
     },
     "metadata": {
      "needs_background": "light"
     },
     "output_type": "display_data"
    }
   ],
   "source": [
    "plt.plot(pred)\n",
    "plt.plot(actual)\n",
    "plt.show()"
   ]
  },
  {
   "cell_type": "code",
   "execution_count": 48,
   "metadata": {},
   "outputs": [],
   "source": [
    "X_train=X[:train_size].values\n",
    "X_test=X[train_size+1:len(X)].values\n",
    "y_train=Y[:train_size].values\n",
    "y_test=Y[train_size+1:len(Y)].values"
   ]
  },
  {
   "cell_type": "markdown",
   "metadata": {},
   "source": [
    "### Data analysis\n",
    "Here we analyse correlation. We find that maximum rainfall is negatively correlated with dengue cases, as surprisingly, it could signal instances of flushing. Temperature is postiviely correlated with dengue. The bright yellow region in the top right signals that past weeks of dengue data is strongly correlated with the dengue cases in the week we are trying to predict."
   ]
  },
  {
   "cell_type": "code",
   "execution_count": 49,
   "metadata": {},
   "outputs": [
    {
     "data": {
      "text/html": [
       "<div>\n",
       "<style scoped>\n",
       "    .dataframe tbody tr th:only-of-type {\n",
       "        vertical-align: middle;\n",
       "    }\n",
       "\n",
       "    .dataframe tbody tr th {\n",
       "        vertical-align: top;\n",
       "    }\n",
       "\n",
       "    .dataframe thead th {\n",
       "        text-align: right;\n",
       "    }\n",
       "</style>\n",
       "<table border=\"1\" class=\"dataframe\">\n",
       "  <thead>\n",
       "    <tr style=\"text-align: right;\">\n",
       "      <th></th>\n",
       "      <th>-9</th>\n",
       "      <th>-10</th>\n",
       "      <th>-11</th>\n",
       "      <th>-12</th>\n",
       "      <th>-13</th>\n",
       "      <th>-14</th>\n",
       "      <th>-15</th>\n",
       "      <th>-16</th>\n",
       "      <th>-17</th>\n",
       "      <th>-18</th>\n",
       "      <th>...</th>\n",
       "      <th>mean_temp78</th>\n",
       "      <th>mean_temp84</th>\n",
       "      <th>mean_temp90</th>\n",
       "      <th>mean_temp96</th>\n",
       "      <th>mean_temp102</th>\n",
       "      <th>mean_temp108</th>\n",
       "      <th>population</th>\n",
       "      <th>year</th>\n",
       "      <th>month</th>\n",
       "      <th>dengue_actual</th>\n",
       "    </tr>\n",
       "  </thead>\n",
       "  <tbody>\n",
       "    <tr>\n",
       "      <th>year</th>\n",
       "      <td>0.292162</td>\n",
       "      <td>0.292024</td>\n",
       "      <td>0.291770</td>\n",
       "      <td>0.291519</td>\n",
       "      <td>0.290692</td>\n",
       "      <td>0.289659</td>\n",
       "      <td>0.288458</td>\n",
       "      <td>0.287298</td>\n",
       "      <td>0.285676</td>\n",
       "      <td>0.284227</td>\n",
       "      <td>...</td>\n",
       "      <td>0.277970</td>\n",
       "      <td>0.285083</td>\n",
       "      <td>0.284958</td>\n",
       "      <td>0.284410</td>\n",
       "      <td>0.276369</td>\n",
       "      <td>0.267006</td>\n",
       "      <td>0.979026</td>\n",
       "      <td>1.000000</td>\n",
       "      <td>-0.049988</td>\n",
       "      <td>0.296084</td>\n",
       "    </tr>\n",
       "    <tr>\n",
       "      <th>month</th>\n",
       "      <td>0.164610</td>\n",
       "      <td>0.167784</td>\n",
       "      <td>0.170775</td>\n",
       "      <td>0.170007</td>\n",
       "      <td>0.164310</td>\n",
       "      <td>0.155583</td>\n",
       "      <td>0.142116</td>\n",
       "      <td>0.127415</td>\n",
       "      <td>0.110072</td>\n",
       "      <td>0.091313</td>\n",
       "      <td>...</td>\n",
       "      <td>0.371850</td>\n",
       "      <td>0.388611</td>\n",
       "      <td>0.406061</td>\n",
       "      <td>0.418152</td>\n",
       "      <td>0.413764</td>\n",
       "      <td>0.386471</td>\n",
       "      <td>-0.042414</td>\n",
       "      <td>-0.049988</td>\n",
       "      <td>1.000000</td>\n",
       "      <td>0.055381</td>\n",
       "    </tr>\n",
       "    <tr>\n",
       "      <th>dengue_actual</th>\n",
       "      <td>0.650524</td>\n",
       "      <td>0.617937</td>\n",
       "      <td>0.582063</td>\n",
       "      <td>0.550443</td>\n",
       "      <td>0.519392</td>\n",
       "      <td>0.491268</td>\n",
       "      <td>0.468906</td>\n",
       "      <td>0.451166</td>\n",
       "      <td>0.436181</td>\n",
       "      <td>0.423854</td>\n",
       "      <td>...</td>\n",
       "      <td>0.231724</td>\n",
       "      <td>0.245070</td>\n",
       "      <td>0.239907</td>\n",
       "      <td>0.234606</td>\n",
       "      <td>0.234535</td>\n",
       "      <td>0.222552</td>\n",
       "      <td>0.287353</td>\n",
       "      <td>0.296084</td>\n",
       "      <td>0.055381</td>\n",
       "      <td>1.000000</td>\n",
       "    </tr>\n",
       "  </tbody>\n",
       "</table>\n",
       "<p>3 rows × 119 columns</p>\n",
       "</div>"
      ],
      "text/plain": [
       "                     -9       -10       -11       -12       -13       -14  \\\n",
       "year           0.292162  0.292024  0.291770  0.291519  0.290692  0.289659   \n",
       "month          0.164610  0.167784  0.170775  0.170007  0.164310  0.155583   \n",
       "dengue_actual  0.650524  0.617937  0.582063  0.550443  0.519392  0.491268   \n",
       "\n",
       "                    -15       -16       -17       -18  ...  mean_temp78  \\\n",
       "year           0.288458  0.287298  0.285676  0.284227  ...     0.277970   \n",
       "month          0.142116  0.127415  0.110072  0.091313  ...     0.371850   \n",
       "dengue_actual  0.468906  0.451166  0.436181  0.423854  ...     0.231724   \n",
       "\n",
       "               mean_temp84  mean_temp90  mean_temp96  mean_temp102  \\\n",
       "year              0.285083     0.284958     0.284410      0.276369   \n",
       "month             0.388611     0.406061     0.418152      0.413764   \n",
       "dengue_actual     0.245070     0.239907     0.234606      0.234535   \n",
       "\n",
       "               mean_temp108  population      year     month  dengue_actual  \n",
       "year               0.267006    0.979026  1.000000 -0.049988       0.296084  \n",
       "month              0.386471   -0.042414 -0.049988  1.000000       0.055381  \n",
       "dengue_actual      0.222552    0.287353  0.296084  0.055381       1.000000  \n",
       "\n",
       "[3 rows x 119 columns]"
      ]
     },
     "execution_count": 49,
     "metadata": {},
     "output_type": "execute_result"
    }
   ],
   "source": [
    "df_normalised.corr().tail(3)"
   ]
  },
  {
   "cell_type": "code",
   "execution_count": 50,
   "metadata": {},
   "outputs": [
    {
     "data": {
      "image/png": "[encoded data removed]",
      "text/plain": [
       "<Figure size 432x288 with 1 Axes>"
      ]
     },
     "metadata": {
      "needs_background": "light"
     },
     "output_type": "display_data"
    }
   ],
   "source": [
    "plt.imshow(df_normalised.corr())\n",
    "plt.show()"
   ]
  },
  {
   "cell_type": "code",
   "execution_count": 51,
   "metadata": {},
   "outputs": [
    {
     "name": "stdout",
     "output_type": "stream",
     "text": [
      "(909, 1, 118) (909, 1)\n"
     ]
    }
   ],
   "source": [
    "X_train = np.reshape(X_train, (X_train.shape[0], 1, X_train.shape[1]))\n",
    "X_test = np.reshape(X_test, (X_test.shape[0], 1, X_test.shape[1]))\n",
    "print(X_train.shape, y_train.shape)"
   ]
  },
  {
   "cell_type": "markdown",
   "metadata": {},
   "source": [
    "### Defining our model"
   ]
  },
  {
   "cell_type": "code",
   "execution_count": 52,
   "metadata": {},
   "outputs": [],
   "source": [
    "from tensorflow.keras.models import Sequential\n",
    "from tensorflow.keras.layers import Dense, Dropout, LSTM, Flatten, Activation\n",
    "from tensorflow.keras.layers import LeakyReLU"
   ]
  },
  {
   "cell_type": "code",
   "execution_count": 66,
   "metadata": {},
   "outputs": [],
   "source": [
    "model = Sequential()\n",
    "model.add(LSTM(256, input_shape=(1, X_train.shape[2]),return_sequences=True, activation='tanh'))\n",
    "# model.add(LeakyReLU(alpha=0.3))\n",
    "\n",
    "model.add(LSTM(128))\n",
    "model.add(LeakyReLU(alpha=0.3))\n",
    "model.add(Dropout(0.1))\n",
    "\n",
    "model.add(Dense(98))\n",
    "model.add(LeakyReLU(alpha=0.3))\n",
    "model.add(Dropout(0.1))\n",
    "\n",
    "# model.add(LSTM(64, activation=LeakyRelu, return_sequences=True))\n",
    "\n",
    "model.add(Dense(64))\n",
    "model.add(LeakyReLU(alpha=0.3))\n",
    "model.add(Dropout(0.1))\n",
    "\n",
    "model.add(Dense(32))\n",
    "model.add(LeakyReLU(alpha=0.3))\n",
    "model.add(Dropout(0.1))\n",
    "\n",
    "model.add(Dense(1, activation=tf.nn.elu))\n",
    "Adam=tf.keras.optimizers.Adam(lr=0.001, beta_1=0.99, beta_2=0.999, amsgrad=True, decay=0.0001)\n",
    "SGD = tf.keras.optimizers.SGD(lr=0.003, decay=1e-6, momentum=0.9, nesterov=True)\n",
    "\n",
    "model.compile(optimizer=SGD,\n",
    "              loss='mean_squared_error',)"
   ]
  },
  {
   "cell_type": "code",
   "execution_count": 65,
   "metadata": {},
   "outputs": [],
   "source": [
    "loss=[]\n",
    "val_loss=[]"
   ]
  },
  {
   "cell_type": "markdown",
   "metadata": {},
   "source": [
    "### Training our model"
   ]
  },
  {
   "cell_type": "code",
   "execution_count": 77,
   "metadata": {},
   "outputs": [
    {
     "name": "stdout",
     "output_type": "stream",
     "text": [
      "Train on 909 samples, validate on 101 samples\n",
      "Epoch 1/5\n",
      "909/909 [==============================] - 0s 407us/sample - loss: 0.1525 - val_loss: 0.2019\n",
      "Epoch 2/5\n",
      "909/909 [==============================] - 0s 390us/sample - loss: 0.1580 - val_loss: 0.2019\n",
      "Epoch 3/5\n",
      "909/909 [==============================] - 0s 406us/sample - loss: 0.1563 - val_loss: 0.2971\n",
      "Epoch 4/5\n",
      "909/909 [==============================] - 0s 498us/sample - loss: 0.1529 - val_loss: 0.1871\n",
      "Epoch 5/5\n",
      "909/909 [==============================] - 0s 529us/sample - loss: 0.1455 - val_loss: 0.1806\n"
     ]
    }
   ],
   "source": [
    "history=model.fit(X_train, \n",
    "                  y_train, \n",
    "                  epochs=5,\n",
    "                  batch_size=64, \n",
    "#                   callbacks = [callback],\n",
    "                  validation_data=(X_test, y_test), \n",
    "                  verbose=1,)\n",
    "\n",
    "loss.append(history.history['loss'])\n",
    "val_loss.append(history.history['val_loss'])"
   ]
  },
  {
   "cell_type": "markdown",
   "metadata": {},
   "source": [
    "### Analysing our losses\n",
    "Note that the results of this section may differ for some people. We have managed to get `val-loss` down to about 0.2."
   ]
  },
  {
   "cell_type": "code",
   "execution_count": 78,
   "metadata": {},
   "outputs": [],
   "source": [
    "def flat(lst):\n",
    "    a=[]\n",
    "    for lst in np.array(lst).flatten():\n",
    "        a=a+lst\n",
    "    return a\n",
    "\n",
    "loss=flat(loss)\n",
    "val_loss=flat(val_loss)\n",
    "    "
   ]
  },
  {
   "cell_type": "code",
   "execution_count": 80,
   "metadata": {},
   "outputs": [
    {
     "data": {
      "image/png": "[encoded data removed]",
      "text/plain": [
       "<Figure size 640x480 with 1 Axes>"
      ]
     },
     "metadata": {},
     "output_type": "display_data"
    }
   ],
   "source": [
    "from matplotlib.pyplot import figure\n",
    "figure(num=None, figsize=(8, 6), dpi=80, facecolor='w', edgecolor='k')\n",
    "\n",
    "plt.plot(loss, label='Training loss')\n",
    "plt.plot(val_loss, label='Testing loss')\n",
    "plt.legend()\n",
    "plt.show()"
   ]
  },
  {
   "cell_type": "code",
   "execution_count": 82,
   "metadata": {},
   "outputs": [
    {
     "data": {
      "image/png": "[encoded data removed]",
      "text/plain": [
       "<Figure size 640x480 with 1 Axes>"
      ]
     },
     "metadata": {},
     "output_type": "display_data"
    },
    {
     "data": {
      "text/plain": [
       "0.18056037015218374"
      ]
     },
     "execution_count": 82,
     "metadata": {},
     "output_type": "execute_result"
    }
   ],
   "source": [
    "figure(num=None, figsize=(8, 6), dpi=80, facecolor='w', edgecolor='k')\n",
    "\n",
    "p=model.predict(X_test)\n",
    "plt.plot(y_test, label='Actual')    \n",
    "plt.plot(p, label='Model Predictions')\n",
    "plt.legend()\n",
    "plt.show()\n",
    "euclid_loss(y_test, p)"
   ]
  },
  {
   "cell_type": "code",
   "execution_count": 83,
   "metadata": {},
   "outputs": [],
   "source": [
    "model.save('epic-dengue-model080120')"
   ]
  },
  {
   "cell_type": "code",
   "execution_count": 85,
   "metadata": {},
   "outputs": [],
   "source": [
    "new_model=tf.keras.models.load_model('epic-dengue-model070120')"
   ]
  },
  {
   "cell_type": "code",
   "execution_count": 61,
   "metadata": {},
   "outputs": [
    {
     "name": "stdout",
     "output_type": "stream",
     "text": [
      "_________________________________________________________________\n",
      "Layer (type)                 Output Shape              Param #   \n",
      "=================================================================\n",
      "lstm (LSTM)                  (None, 1, 256)            384000    \n",
      "_________________________________________________________________\n",
      "lstm_1 (LSTM)                (None, 128)               197120    \n",
      "_________________________________________________________________\n",
      "leaky_re_lu (LeakyReLU)      (None, 128)               0         \n",
      "_________________________________________________________________\n",
      "dropout (Dropout)            (None, 128)               0         \n",
      "_________________________________________________________________\n",
      "dense (Dense)                (None, 98)                12642     \n",
      "_________________________________________________________________\n",
      "leaky_re_lu_1 (LeakyReLU)    (None, 98)                0         \n",
      "_________________________________________________________________\n",
      "dropout_1 (Dropout)          (None, 98)                0         \n",
      "_________________________________________________________________\n",
      "dense_1 (Dense)              (None, 64)                6336      \n",
      "_________________________________________________________________\n",
      "leaky_re_lu_2 (LeakyReLU)    (None, 64)                0         \n",
      "_________________________________________________________________\n",
      "dropout_2 (Dropout)          (None, 64)                0         \n",
      "_________________________________________________________________\n",
      "dense_2 (Dense)              (None, 32)                2080      \n",
      "_________________________________________________________________\n",
      "leaky_re_lu_3 (LeakyReLU)    (None, 32)                0         \n",
      "_________________________________________________________________\n",
      "dropout_3 (Dropout)          (None, 32)                0         \n",
      "_________________________________________________________________\n",
      "dense_3 (Dense)              (None, 1)                 33        \n",
      "=================================================================\n",
      "Total params: 602,211\n",
      "Trainable params: 602,211\n",
      "Non-trainable params: 0\n",
      "_________________________________________________________________\n"
     ]
    }
   ],
   "source": [
    "new_model.summary()"
   ]
  }
 ],
 "metadata": {
  "kernelspec": {
   "display_name": "Python (myenv)",
   "language": "python",
   "name": "myenv"
  },
  "language_info": {
   "codemirror_mode": {
    "name": "ipython",
    "version": 3
   },
   "file_extension": ".py",
   "mimetype": "text/x-python",
   "name": "python",
   "nbconvert_exporter": "python",
   "pygments_lexer": "ipython3",
   "version": "3.6.8"
  }
 },
 "nbformat": 4,
 "nbformat_minor": 2
}
